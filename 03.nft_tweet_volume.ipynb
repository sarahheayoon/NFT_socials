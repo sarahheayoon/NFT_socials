{
 "cells": [
  {
   "cell_type": "code",
   "execution_count": 60,
   "metadata": {},
   "outputs": [],
   "source": [
    "\"\"\"\n",
    "nft_tweet_count\n",
    "\"\"\"\n",
    "import requests\n",
    "import pandas as pd\n",
    "import sqlalchemy as db\n",
    "import time\n",
    "\n",
    "engine = db.create_engine(\"\")\n",
    "connection = engine.connect()\n",
    "bearer_token = ''\n",
    "\n",
    "nft_collection_df = pd.read_sql_query('select * from nft_collection_hashtags', connection)\n",
    "nft_dict = dict(zip(nft_collection_df.collection, nft_collection_df.hashtag))\n",
    "\n",
    "# twitter api call\n",
    "for key, value in nft_dict.items():\n",
    "    \n",
    "    headers = {\n",
    "    'Authorization': f\"Bearer {bearer_token}\",\n",
    "}\n",
    "\n",
    "    if len(value) > 0:\n",
    "        q = ' OR '.join(value.split(','))\n",
    "        params = {\n",
    "            'query': q +  ' \"nft\" -is:retweet',\n",
    "        }\n",
    "    else:\n",
    "        params = {\n",
    "            'query': f'\"{key}\" \"nft\" -is:retweet',\n",
    "        }\n",
    "\n",
    "# formatting the result \n",
    "    response = requests.get('https://api.twitter.com/2/tweets/counts/recent', params=params, headers=headers)\n",
    "    data = response.json()\n",
    "    tweets = pd.DataFrame(data['data'])\n",
    "    tweets.index = pd.to_datetime(tweets.end)\n",
    "    tweets = tweets.rolling(24).tweet_count.sum()\n",
    "    tweets=tweets.dropna()\n",
    "    tweets=tweets.reset_index() \n",
    "    tweets.loc[len(tweets)-1, 'end'] = str(tweets.loc[len(tweets)-1, 'end'])[0:11] + str(int(str(tweets.loc[len(tweets)-1, 'end'])[11:13])+1) + \":00:00\"\n",
    "\n",
    "\n",
    "# making it to a string of tuples\n",
    "    s = ', '.join([\"(\"+ ', '.join( [\"'\" + key + \"'\", \"'\" + str(tweets.iloc[i].end)+ \"'\",\n",
    "              \"'\"+str(tweets.iloc[i].tweet_count )+\"'\" + \")\" ]) for i in range(len(tweets)) ])\n",
    "\n",
    "    query = f\"\"\"\n",
    "    INSERT INTO nft_tweet_counts \n",
    "    VALUES {s}\n",
    "    ON CONFLICT on constraint unique_collection\n",
    "    DO \n",
    "       UPDATE SET tweet_volume = EXCLUDED.tweet_volume;\n",
    "    \"\"\"\n",
    "\n",
    "    try:\n",
    "        pd.read_sql_query(query, connection)\n",
    "    except:\n",
    "         pass\n",
    "\n",
    "#time.sleep(60 * 10 / len(collections) )"
   ]
  }
 ],
 "metadata": {
  "kernelspec": {
   "display_name": "Python 3",
   "language": "python",
   "name": "python3"
  },
  "language_info": {
   "codemirror_mode": {
    "name": "ipython",
    "version": 3
   },
   "file_extension": ".py",
   "mimetype": "text/x-python",
   "name": "python",
   "nbconvert_exporter": "python",
   "pygments_lexer": "ipython3",
   "version": "3.9.6 (default, Sep 26 2022, 11:37:49) \n[Clang 14.0.0 (clang-1400.0.29.202)]"
  },
  "orig_nbformat": 4,
  "vscode": {
   "interpreter": {
    "hash": "31f2aee4e71d21fbe5cf8b01ff0e069b9275f58929596ceb00d14d90e3e16cd6"
   }
  }
 },
 "nbformat": 4,
 "nbformat_minor": 2
}
