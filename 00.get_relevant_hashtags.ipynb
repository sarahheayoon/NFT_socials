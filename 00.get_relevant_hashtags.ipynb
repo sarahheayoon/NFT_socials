{
 "cells": [
  {
   "cell_type": "code",
   "execution_count": 1,
   "metadata": {},
   "outputs": [],
   "source": [
    "import requests\n",
    "import pandas as pd\n",
    "import numpy as np\n",
    "import sqlalchemy as db\n",
    "import time\n",
    "import datetime\n",
    "import os\n",
    "\n",
    "engine = db.create_engine(os.getenv('THETIESOCIALDB'))\n",
    "connection = engine.connect()"
   ]
  },
  {
   "cell_type": "code",
   "execution_count": null,
   "metadata": {},
   "outputs": [],
   "source": [
    "def count_tags(row_string):\n",
    "        count = row_string.count('#')\n",
    "        return count\n",
    "    \n",
    "for index, row in tweets.iterrows():\n",
    "    tweets['count_hash'] = tweets['text'].apply(lambda row : count_tags(row))\n",
    "\n",
    "tweets = tweets.loc[(tweets['count_hash'] < 6)] "
   ]
  },
  {
   "cell_type": "code",
   "execution_count": 23,
   "metadata": {},
   "outputs": [
    {
     "name": "stdout",
     "output_type": "stream",
     "text": [
      "              hashtag  count    percent\n",
      "0               #8PES     38  16.239316\n",
      "1                #NFT     24  10.256410\n",
      "2               #8pes     24  10.256410\n",
      "3   #NewNFTProfilePic     16   6.837607\n",
      "4                #nft     13   5.555556\n",
      "5         #blesstiger     12   5.128205\n",
      "6        #8PESbydvnci     11   4.700855\n",
      "7                #ETH      5   2.136752\n",
      "8               #NFTs      4   1.709402\n",
      "9       #NFTCommunity      4   1.709402\n",
      "10               #ATH      4   1.709402\n",
      "11              #drop      3   1.282051\n",
      "12              #mint      3   1.282051\n",
      "13            #NFTart      2   0.854701\n",
      "14                #GN      2   0.854701\n",
      "15        #digitalart      2   0.854701\n",
      "16          #aiartist      2   0.854701\n",
      "17       #MintStealth      2   0.854701\n",
      "18               #6To      2   0.854701\n",
      "19               #BTC      2   0.854701\n"
     ]
    }
   ],
   "source": [
    "tweets = pd.read_sql_query(f\"select text from nft_tweets_demo where collection = '8PES'\", connection)\n",
    "tweets = tweets[tweets['text'].str.contains(\"#\")].reset_index(drop=True)\n",
    "if not tweets.empty:\n",
    "    for index, row in tweets.iterrows():\n",
    "        tweets['count_hash'] = tweets['text'].apply(lambda row : row.count('#'))\n",
    "    \n",
    "    tweets = tweets.loc[(tweets['count_hash'] < 6)] \n",
    "\n",
    "    if tweets is not None:\n",
    "        hashtags_count = pd.DataFrame(tweets.text.str.extractall(r'(\\#\\w+)')[0].value_counts())\n",
    "        hashtags_count.columns = ['count']\n",
    "        hashtags_count.reset_index(inplace = True)\n",
    "        hashtags_count['percent'] = (hashtags_count['count'] / hashtags_count['count'].sum()) * 100\n",
    "        hashtags_count.rename(columns={ hashtags_count.columns[0]: \"hashtag\" }, inplace = True)\n",
    "\n",
    "        #filter by count nubmer\n",
    "        # result = hashtags_count[(hashtags_count['percent'] >= min_percent)]\n",
    "        result = hashtags_count.head(np.minimum(20, hashtags_count.shape[0]))\n",
    "        result = result.loc[(result['count']> 1)]\n",
    "        #result = result.to_json(orient = 'records')\n",
    "else:\n",
    "    print('no hashtags for this one') "
   ]
  },
  {
   "cell_type": "code",
   "execution_count": 21,
   "metadata": {},
   "outputs": [
    {
     "ename": "KeyError",
     "evalue": "'hashtag'",
     "output_type": "error",
     "traceback": [
      "\u001b[0;31m---------------------------------------------------------------------------\u001b[0m",
      "\u001b[0;31mKeyError\u001b[0m                                  Traceback (most recent call last)",
      "\u001b[0;32m/opt/anaconda3/lib/python3.8/site-packages/pandas/core/indexes/base.py\u001b[0m in \u001b[0;36mget_loc\u001b[0;34m(self, key, method, tolerance)\u001b[0m\n\u001b[1;32m   3620\u001b[0m             \u001b[0;32mtry\u001b[0m\u001b[0;34m:\u001b[0m\u001b[0;34m\u001b[0m\u001b[0;34m\u001b[0m\u001b[0m\n\u001b[0;32m-> 3621\u001b[0;31m                 \u001b[0;32mreturn\u001b[0m \u001b[0mself\u001b[0m\u001b[0;34m.\u001b[0m\u001b[0m_engine\u001b[0m\u001b[0;34m.\u001b[0m\u001b[0mget_loc\u001b[0m\u001b[0;34m(\u001b[0m\u001b[0mcasted_key\u001b[0m\u001b[0;34m)\u001b[0m\u001b[0;34m\u001b[0m\u001b[0;34m\u001b[0m\u001b[0m\n\u001b[0m\u001b[1;32m   3622\u001b[0m             \u001b[0;32mexcept\u001b[0m \u001b[0mKeyError\u001b[0m \u001b[0;32mas\u001b[0m \u001b[0merr\u001b[0m\u001b[0;34m:\u001b[0m\u001b[0;34m\u001b[0m\u001b[0;34m\u001b[0m\u001b[0m\n",
      "\u001b[0;32m/opt/anaconda3/lib/python3.8/site-packages/pandas/_libs/index.pyx\u001b[0m in \u001b[0;36mpandas._libs.index.IndexEngine.get_loc\u001b[0;34m()\u001b[0m\n",
      "\u001b[0;32m/opt/anaconda3/lib/python3.8/site-packages/pandas/_libs/index.pyx\u001b[0m in \u001b[0;36mpandas._libs.index.IndexEngine.get_loc\u001b[0;34m()\u001b[0m\n",
      "\u001b[0;32mpandas/_libs/hashtable_class_helper.pxi\u001b[0m in \u001b[0;36mpandas._libs.hashtable.PyObjectHashTable.get_item\u001b[0;34m()\u001b[0m\n",
      "\u001b[0;32mpandas/_libs/hashtable_class_helper.pxi\u001b[0m in \u001b[0;36mpandas._libs.hashtable.PyObjectHashTable.get_item\u001b[0;34m()\u001b[0m\n",
      "\u001b[0;31mKeyError\u001b[0m: 'hashtag'",
      "\nThe above exception was the direct cause of the following exception:\n",
      "\u001b[0;31mKeyError\u001b[0m                                  Traceback (most recent call last)",
      "\u001b[0;32m<ipython-input-21-a75562adc60e>\u001b[0m in \u001b[0;36m<module>\u001b[0;34m\u001b[0m\n\u001b[1;32m      5\u001b[0m \u001b[0;34m\u001b[0m\u001b[0m\n\u001b[1;32m      6\u001b[0m \u001b[0;32mfor\u001b[0m \u001b[0mindex\u001b[0m\u001b[0;34m,\u001b[0m \u001b[0mrow\u001b[0m \u001b[0;32min\u001b[0m \u001b[0mhashtags_count\u001b[0m\u001b[0;34m.\u001b[0m\u001b[0miterrows\u001b[0m\u001b[0;34m(\u001b[0m\u001b[0;34m)\u001b[0m\u001b[0;34m:\u001b[0m\u001b[0;34m\u001b[0m\u001b[0;34m\u001b[0m\u001b[0m\n\u001b[0;32m----> 7\u001b[0;31m     \u001b[0mhashtags_count\u001b[0m\u001b[0;34m[\u001b[0m\u001b[0;34m'only_letters'\u001b[0m\u001b[0;34m]\u001b[0m \u001b[0;34m=\u001b[0m \u001b[0mhashtags_count\u001b[0m\u001b[0;34m[\u001b[0m\u001b[0;34m'hashtag'\u001b[0m\u001b[0;34m]\u001b[0m\u001b[0;34m.\u001b[0m\u001b[0mapply\u001b[0m\u001b[0;34m(\u001b[0m\u001b[0;32mlambda\u001b[0m \u001b[0mrow\u001b[0m \u001b[0;34m:\u001b[0m \u001b[0mbool\u001b[0m\u001b[0;34m(\u001b[0m\u001b[0mrow\u001b[0m\u001b[0;34m.\u001b[0m\u001b[0misalpha\u001b[0m\u001b[0;34m(\u001b[0m\u001b[0;34m)\u001b[0m\u001b[0;34m)\u001b[0m\u001b[0;34m)\u001b[0m\u001b[0;34m\u001b[0m\u001b[0;34m\u001b[0m\u001b[0m\n\u001b[0m\u001b[1;32m      8\u001b[0m \u001b[0;34m\u001b[0m\u001b[0m\n\u001b[1;32m      9\u001b[0m \u001b[0mhashtags_count\u001b[0m\u001b[0;34m\u001b[0m\u001b[0;34m\u001b[0m\u001b[0m\n",
      "\u001b[0;32m/opt/anaconda3/lib/python3.8/site-packages/pandas/core/frame.py\u001b[0m in \u001b[0;36m__getitem__\u001b[0;34m(self, key)\u001b[0m\n\u001b[1;32m   3503\u001b[0m             \u001b[0;32mif\u001b[0m \u001b[0mself\u001b[0m\u001b[0;34m.\u001b[0m\u001b[0mcolumns\u001b[0m\u001b[0;34m.\u001b[0m\u001b[0mnlevels\u001b[0m \u001b[0;34m>\u001b[0m \u001b[0;36m1\u001b[0m\u001b[0;34m:\u001b[0m\u001b[0;34m\u001b[0m\u001b[0;34m\u001b[0m\u001b[0m\n\u001b[1;32m   3504\u001b[0m                 \u001b[0;32mreturn\u001b[0m \u001b[0mself\u001b[0m\u001b[0;34m.\u001b[0m\u001b[0m_getitem_multilevel\u001b[0m\u001b[0;34m(\u001b[0m\u001b[0mkey\u001b[0m\u001b[0;34m)\u001b[0m\u001b[0;34m\u001b[0m\u001b[0;34m\u001b[0m\u001b[0m\n\u001b[0;32m-> 3505\u001b[0;31m             \u001b[0mindexer\u001b[0m \u001b[0;34m=\u001b[0m \u001b[0mself\u001b[0m\u001b[0;34m.\u001b[0m\u001b[0mcolumns\u001b[0m\u001b[0;34m.\u001b[0m\u001b[0mget_loc\u001b[0m\u001b[0;34m(\u001b[0m\u001b[0mkey\u001b[0m\u001b[0;34m)\u001b[0m\u001b[0;34m\u001b[0m\u001b[0;34m\u001b[0m\u001b[0m\n\u001b[0m\u001b[1;32m   3506\u001b[0m             \u001b[0;32mif\u001b[0m \u001b[0mis_integer\u001b[0m\u001b[0;34m(\u001b[0m\u001b[0mindexer\u001b[0m\u001b[0;34m)\u001b[0m\u001b[0;34m:\u001b[0m\u001b[0;34m\u001b[0m\u001b[0;34m\u001b[0m\u001b[0m\n\u001b[1;32m   3507\u001b[0m                 \u001b[0mindexer\u001b[0m \u001b[0;34m=\u001b[0m \u001b[0;34m[\u001b[0m\u001b[0mindexer\u001b[0m\u001b[0;34m]\u001b[0m\u001b[0;34m\u001b[0m\u001b[0;34m\u001b[0m\u001b[0m\n",
      "\u001b[0;32m/opt/anaconda3/lib/python3.8/site-packages/pandas/core/indexes/base.py\u001b[0m in \u001b[0;36mget_loc\u001b[0;34m(self, key, method, tolerance)\u001b[0m\n\u001b[1;32m   3621\u001b[0m                 \u001b[0;32mreturn\u001b[0m \u001b[0mself\u001b[0m\u001b[0;34m.\u001b[0m\u001b[0m_engine\u001b[0m\u001b[0;34m.\u001b[0m\u001b[0mget_loc\u001b[0m\u001b[0;34m(\u001b[0m\u001b[0mcasted_key\u001b[0m\u001b[0;34m)\u001b[0m\u001b[0;34m\u001b[0m\u001b[0;34m\u001b[0m\u001b[0m\n\u001b[1;32m   3622\u001b[0m             \u001b[0;32mexcept\u001b[0m \u001b[0mKeyError\u001b[0m \u001b[0;32mas\u001b[0m \u001b[0merr\u001b[0m\u001b[0;34m:\u001b[0m\u001b[0;34m\u001b[0m\u001b[0;34m\u001b[0m\u001b[0m\n\u001b[0;32m-> 3623\u001b[0;31m                 \u001b[0;32mraise\u001b[0m \u001b[0mKeyError\u001b[0m\u001b[0;34m(\u001b[0m\u001b[0mkey\u001b[0m\u001b[0;34m)\u001b[0m \u001b[0;32mfrom\u001b[0m \u001b[0merr\u001b[0m\u001b[0;34m\u001b[0m\u001b[0;34m\u001b[0m\u001b[0m\n\u001b[0m\u001b[1;32m   3624\u001b[0m             \u001b[0;32mexcept\u001b[0m \u001b[0mTypeError\u001b[0m\u001b[0;34m:\u001b[0m\u001b[0;34m\u001b[0m\u001b[0;34m\u001b[0m\u001b[0m\n\u001b[1;32m   3625\u001b[0m                 \u001b[0;31m# If we have a listlike key, _check_indexing_error will raise\u001b[0m\u001b[0;34m\u001b[0m\u001b[0;34m\u001b[0m\u001b[0;34m\u001b[0m\u001b[0m\n",
      "\u001b[0;31mKeyError\u001b[0m: 'hashtag'"
     ]
    }
   ],
   "source": [
    "hashtags_count = pd.DataFrame(tweets.text.str.extractall(r'(\\#\\w+)')[0].value_counts())\n",
    "hashtags_count.columns = ['count']\n",
    "hashtags_count.reset_index(inplace = True)\n",
    "hashtags_count['percent'] = (hashtags_count['count'] / hashtags_count['count'].sum()) * 100"
   ]
  },
  {
   "cell_type": "code",
   "execution_count": 9,
   "metadata": {},
   "outputs": [
    {
     "name": "stdout",
     "output_type": "stream",
     "text": [
      "no hashtags for this one\n"
     ]
    }
   ],
   "source": [
    "def count_tags(row_string):\n",
    "        count = row_string.count('#')\n",
    "        return count\n",
    "\n",
    "def containsLetter(value):\n",
    "    for character in value:\n",
    "        if character.isalpha():\n",
    "            return True\n",
    "    return False\n",
    "\n",
    "tweets = pd.read_sql_query(f\"select text from nft_tweets_demo where collection = '{collection}'\", connection)\n",
    "tweets = tweets[tweets['text'].str.contains(\"#\")].reset_index(drop=True)\n",
    "\n",
    "if not tweets.empty:\n",
    "    for index, row in tweets.iterrows():\n",
    "        tweets['count_hash'] = tweets['text'].apply(lambda row : row.count('#')\n",
    "    \n",
    "    tweets = tweets.loc[(tweets['count_hash'] < 6)] \n",
    "\n",
    "    if tweets is not None:\n",
    "        hashtags_count = pd.DataFrame(tweets.text.str.extractall(r'(\\#\\w+)')[0].value_counts())\n",
    "        hashtags_count.columns = ['count']\n",
    "        hashtags_count.reset_index(inplace = True)\n",
    "        hashtags_count['percent'] = (hashtags_count['count'] / hashtags_count['count'].sum()) * 100\n",
    "        hashtags_count['timestamp'] = datetime.datetime.now()\n",
    "        hashtags_count.rename(columns={ hashtags_count.columns[0]: \"hashtag\" }, inplace = True)\n",
    "\n",
    "        for index, row in hashtags_count.iterrows():\n",
    "            hashtags_count['only_letters'] = hashtags_count['hashtag'].apply(lambda row : containsLetter(row))\n",
    "\n",
    "        hashtags_count = hashtags_count.loc[hashtags_count['only_letters'] == True]\n",
    "\n",
    "        #filter by count nubmer\n",
    "        # result = hashtags_count[(hashtags_count['percent'] >= min_percent)]\n",
    "        result = hashtags_count.head(np.minimum(20, hashtags_count.shape[0]))\n",
    "        result = result.loc[(result['count']> 1)]\n",
    "\n",
    "else:\n",
    "     print('no hashtags for this one') "
   ]
  },
  {
   "cell_type": "code",
   "execution_count": 2,
   "metadata": {},
   "outputs": [
    {
     "ename": "SyntaxError",
     "evalue": "f-string: unterminated string (<ipython-input-2-a8cc3ac46d2a>, line 10)",
     "output_type": "error",
     "traceback": [
      "\u001b[0;36m  File \u001b[0;32m\"<ipython-input-2-a8cc3ac46d2a>\"\u001b[0;36m, line \u001b[0;32m10\u001b[0m\n\u001b[0;31m    tweets = pd.read_sql_query(f\"select text from nft_tweets_demo where collection = '{'\", connection)\u001b[0m\n\u001b[0m                               ^\u001b[0m\n\u001b[0;31mSyntaxError\u001b[0m\u001b[0;31m:\u001b[0m f-string: unterminated string\n"
     ]
    }
   ],
   "source": [
    "tweets = pd.read_sql_query(f\"select text from nft_tweets_demo where collection = '{collection}'\", connection)\n",
    "tweets = tweets[tweets['text'].str.contains(\"#\")].reset_index(drop=True)\n",
    "\n",
    "if not tweets.empty:\n",
    "    for index, row in tweets.iterrows():\n",
    "        tweets['count_hash'] = tweets['text'].apply(lambda row : row.count('#'))\n",
    "    \n",
    "    tweets = tweets.loc[(tweets['count_hash'] < 6)] \n",
    "\n",
    "    if tweets is not None:\n",
    "        hashtags_count = pd.DataFrame(tweets.text.str.extractall(r'(\\#\\w+)')[0].value_counts())\n",
    "        hashtags_count.columns = ['count']\n",
    "        hashtags_count.reset_index(inplace = True)\n",
    "        hashtags_count['percent'] = (hashtags_count['count'] / hashtags_count['count'].sum()) * 100\n",
    "        hashtags_count['timestamp'] = datetime.datetime.now()\n",
    "        hashtags_count.rename(columns={ hashtags_count.columns[0]: \"hashtag\" }, inplace = True)\n",
    "\n",
    "        for index, row in hashtags_count.iterrows():\n",
    "            hashtags_count['only_letters'] = hashtags_count['hashtag'].apply(lambda row : containsLetter(row))\n",
    "\n",
    "        hashtags_count = hashtags_count.loc[hashtags_count['only_letters'] == True]\n",
    "\n",
    "        #filter by count nubmer\n",
    "        # result = hashtags_count[(hashtags_count['percent'] >= min_percent)]\n",
    "        result = hashtags_count.head(np.minimum(20, hashtags_count.shape[0]))\n",
    "        result = result.loc[(result['count']> 1)] \n"
   ]
  },
  {
   "cell_type": "code",
   "execution_count": null,
   "metadata": {},
   "outputs": [],
   "source": []
  }
 ],
 "metadata": {
  "kernelspec": {
   "display_name": "Python 3",
   "language": "python",
   "name": "python3"
  },
  "language_info": {
   "codemirror_mode": {
    "name": "ipython",
    "version": 3
   },
   "file_extension": ".py",
   "mimetype": "text/x-python",
   "name": "python",
   "nbconvert_exporter": "python",
   "pygments_lexer": "ipython3",
   "version": "3.9.6 (default, Sep 26 2022, 11:37:49) \n[Clang 14.0.0 (clang-1400.0.29.202)]"
  },
  "orig_nbformat": 4,
  "vscode": {
   "interpreter": {
    "hash": "31f2aee4e71d21fbe5cf8b01ff0e069b9275f58929596ceb00d14d90e3e16cd6"
   }
  }
 },
 "nbformat": 4,
 "nbformat_minor": 2
}
